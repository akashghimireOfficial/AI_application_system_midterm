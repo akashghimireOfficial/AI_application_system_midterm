{
 "cells": [
  {
   "cell_type": "markdown",
   "metadata": {},
   "source": [
    "### tf.summary\n",
    "> Operations for writing summary data, for use in analysis and visualization.\n",
    "\n",
    "In this jupyter notebook we will learning these fucntion of tf.summary:\n",
    "1. tf.summary.create_file_writer()\n",
    "3. tf.summary.histogram()\n",
    "4. tf.summary.graph()\n",
    "5. tf.summary.trace_export()\n",
    "6. tf.summary.trace_on()\n",
    "7. tf.summary.trace_off()\n"
   ]
  },
  {
   "cell_type": "code",
   "execution_count": 1,
   "metadata": {},
   "outputs": [
    {
     "name": "stderr",
     "output_type": "stream",
     "text": [
      "2022-10-20 22:29:31.346341: I tensorflow/core/platform/cpu_feature_guard.cc:193] This TensorFlow binary is optimized with oneAPI Deep Neural Network Library (oneDNN) to use the following CPU instructions in performance-critical operations:  AVX2 AVX_VNNI FMA\n",
      "To enable them in other operations, rebuild TensorFlow with the appropriate compiler flags.\n",
      "2022-10-20 22:29:31.523440: I tensorflow/core/util/util.cc:169] oneDNN custom operations are on. You may see slightly different numerical results due to floating-point round-off errors from different computation orders. To turn them off, set the environment variable `TF_ENABLE_ONEDNN_OPTS=0`.\n",
      "2022-10-20 22:29:31.617713: E tensorflow/stream_executor/cuda/cuda_blas.cc:2981] Unable to register cuBLAS factory: Attempting to register factory for plugin cuBLAS when one has already been registered\n",
      "2022-10-20 22:29:32.262793: W tensorflow/stream_executor/platform/default/dso_loader.cc:64] Could not load dynamic library 'libnvinfer.so.7'; dlerror: libnvinfer.so.7: cannot open shared object file: No such file or directory; LD_LIBRARY_PATH: /opt/ros/noetic/lib:/usr/local/cuda-11.6/lib\n",
      "2022-10-20 22:29:32.262849: W tensorflow/stream_executor/platform/default/dso_loader.cc:64] Could not load dynamic library 'libnvinfer_plugin.so.7'; dlerror: libnvinfer_plugin.so.7: cannot open shared object file: No such file or directory; LD_LIBRARY_PATH: /opt/ros/noetic/lib:/usr/local/cuda-11.6/lib\n",
      "2022-10-20 22:29:32.262854: W tensorflow/compiler/tf2tensorrt/utils/py_utils.cc:38] TF-TRT Warning: Cannot dlopen some TensorRT libraries. If you would like to use Nvidia GPU with TensorRT, please make sure the missing libraries mentioned above are installed properly.\n"
     ]
    }
   ],
   "source": [
    "import tensorflow as tf \n",
    "from datetime import datetime\n",
    "%load_ext tensorboard"
   ]
  },
  {
   "cell_type": "code",
   "execution_count": 2,
   "metadata": {},
   "outputs": [],
   "source": [
    "## Defining a basic tf module\n",
    "class tfDense(tf.Module):\n",
    "    def __init__(self, out_features,name=None):\n",
    "        super().__init__(name)\n",
    "        self.out_features=out_features\n",
    "        \n",
    "        self.is_build=False\n",
    "    @tf.function    \n",
    "    def __call__(self,x):\n",
    "        if not self.is_build:\n",
    "            self.w=tf.Variable(tf.random.normal([x.shape[-1],self.out_features]),name='w')\n",
    "            self.b=tf.Variable(tf.zeros(self.out_features),name='b')\n",
    "            self.is_build=True\n",
    "        y=tf.matmul(x,self.w)+self.b\n",
    "        return tf.nn.relu(y)"
   ]
  },
  {
   "cell_type": "code",
   "execution_count": 3,
   "metadata": {},
   "outputs": [
    {
     "name": "stderr",
     "output_type": "stream",
     "text": [
      "2022-10-20 22:29:35.403519: I tensorflow/stream_executor/cuda/cuda_gpu_executor.cc:980] successful NUMA node read from SysFS had negative value (-1), but there must be at least one NUMA node, so returning NUMA node zero\n",
      "2022-10-20 22:29:35.437655: I tensorflow/stream_executor/cuda/cuda_gpu_executor.cc:980] successful NUMA node read from SysFS had negative value (-1), but there must be at least one NUMA node, so returning NUMA node zero\n",
      "2022-10-20 22:29:35.437977: I tensorflow/stream_executor/cuda/cuda_gpu_executor.cc:980] successful NUMA node read from SysFS had negative value (-1), but there must be at least one NUMA node, so returning NUMA node zero\n",
      "2022-10-20 22:29:35.439507: I tensorflow/core/platform/cpu_feature_guard.cc:193] This TensorFlow binary is optimized with oneAPI Deep Neural Network Library (oneDNN) to use the following CPU instructions in performance-critical operations:  AVX2 AVX_VNNI FMA\n",
      "To enable them in other operations, rebuild TensorFlow with the appropriate compiler flags.\n",
      "2022-10-20 22:29:35.440328: I tensorflow/stream_executor/cuda/cuda_gpu_executor.cc:980] successful NUMA node read from SysFS had negative value (-1), but there must be at least one NUMA node, so returning NUMA node zero\n",
      "2022-10-20 22:29:35.440925: I tensorflow/stream_executor/cuda/cuda_gpu_executor.cc:980] successful NUMA node read from SysFS had negative value (-1), but there must be at least one NUMA node, so returning NUMA node zero\n",
      "2022-10-20 22:29:35.441037: I tensorflow/stream_executor/cuda/cuda_gpu_executor.cc:980] successful NUMA node read from SysFS had negative value (-1), but there must be at least one NUMA node, so returning NUMA node zero\n",
      "2022-10-20 22:29:35.978991: I tensorflow/stream_executor/cuda/cuda_gpu_executor.cc:980] successful NUMA node read from SysFS had negative value (-1), but there must be at least one NUMA node, so returning NUMA node zero\n",
      "2022-10-20 22:29:35.979319: I tensorflow/stream_executor/cuda/cuda_gpu_executor.cc:980] successful NUMA node read from SysFS had negative value (-1), but there must be at least one NUMA node, so returning NUMA node zero\n",
      "2022-10-20 22:29:35.979391: I tensorflow/stream_executor/cuda/cuda_gpu_executor.cc:980] successful NUMA node read from SysFS had negative value (-1), but there must be at least one NUMA node, so returning NUMA node zero\n",
      "2022-10-20 22:29:35.979460: I tensorflow/core/common_runtime/gpu/gpu_device.cc:1616] Created device /job:localhost/replica:0/task:0/device:GPU:0 with 4195 MB memory:  -> device: 0, name: NVIDIA GeForce GTX 1660 Ti, pci bus id: 0000:01:00.0, compute capability: 7.5\n"
     ]
    }
   ],
   "source": [
    "## Defining the model\n",
    "x=tf.constant([[1.3,2.5]])\n",
    "model=tfDense(out_features=5)"
   ]
  },
  {
   "cell_type": "markdown",
   "metadata": {},
   "source": [
    "tf.summary.create_file_writer\n",
    "> Creates a summary file writer for the given log directory\n",
    "\n",
    "**Returns a summary writer objects**"
   ]
  },
  {
   "cell_type": "code",
   "execution_count": 4,
   "metadata": {},
   "outputs": [],
   "source": [
    "# Set up logging.\n",
    "stamp = datetime.now().strftime(\"%Y%m%d-%H%M%S\")\n",
    "logdir = \"logs/func/%s\" % stamp\n",
    "writer = tf.summary.create_file_writer(logdir) ## Creates a summary file writer int his given directory"
   ]
  },
  {
   "cell_type": "markdown",
   "metadata": {},
   "source": [
    "tf.summary.trace_on()\n",
    "> start a trace to record compytation graph and profiling information\n",
    "\n",
    "Args\n",
    "1. graph: default True. If true,enables collection of  executed graphs,which also includes one from tf.function\n",
    "2. profiler: default False.  Enabling profiler implicitly enables the graph collection. The profiler may incur a high memory overhead.\n",
    "> \n"
   ]
  },
  {
   "cell_type": "code",
   "execution_count": 5,
   "metadata": {},
   "outputs": [
    {
     "name": "stderr",
     "output_type": "stream",
     "text": [
      "2022-10-20 22:29:42.368119: I tensorflow/core/profiler/lib/profiler_session.cc:101] Profiler session initializing.\n",
      "2022-10-20 22:29:42.368148: I tensorflow/core/profiler/lib/profiler_session.cc:116] Profiler session started.\n",
      "2022-10-20 22:29:42.368975: I tensorflow/core/profiler/backends/gpu/cupti_tracer.cc:1664] Profiler found 1 GPUs\n",
      "2022-10-20 22:29:42.369175: W tensorflow/stream_executor/platform/default/dso_loader.cc:64] Could not load dynamic library 'libcupti.so.11.2'; dlerror: libcupti.so.11.2: cannot open shared object file: No such file or directory; LD_LIBRARY_PATH: /opt/ros/noetic/lib:/usr/local/cuda-11.6/lib\n"
     ]
    }
   ],
   "source": [
    "tf.summary.trace_on(graph=True)\n",
    "tf.profiler.experimental.start(logdir) ## start profiling the tensorflow performance\n",
    "#A profile is a set of statistics that describes how often and for how long various parts of the program executed."
   ]
  },
  {
   "cell_type": "markdown",
   "metadata": {},
   "source": [
    "Methods of **Summary writer object** (return from tf.summary.create_file_writer)\n",
    "> ***writer*** is the Summary writer object in above function\n",
    "\n",
    "writer.**as_default(step=None)** is one of the methods of **writer** object.\n",
    "> Returns a context manager that enables summary writing.\n",
    "For convenience, if step is not None, this function also sets a default value for the step parameter used in summary-writing functions elsewhere in the API so that it need not be explicitly passed in every such invocation. The value can be a constant or a variable.\n",
    "\n",
    "\n"
   ]
  },
  {
   "cell_type": "markdown",
   "metadata": {},
   "source": [
    "### tf.summary.trace_export\n",
    "\n",
    ">stops and export the active trace as Summary and/or profile file.\n",
    "\n",
    "**Args**\n",
    "1. name : A name for the the summary to be written.\n",
    "2. step : Explicit int64-castable monotonic step value for this summary. If omitted, this defaults to tf.summary.experimental.get_step(), which must not be None.\n",
    "3. profiler_outdir : Output directory for profiler. It is required when profiler is enabled when trace was started. Otherwise, it is ignored."
   ]
  },
  {
   "cell_type": "code",
   "execution_count": 6,
   "metadata": {},
   "outputs": [
    {
     "name": "stdout",
     "output_type": "stream",
     "text": [
      "tf.Tensor([[0.02910441 0.         0.         1.6036919  0.        ]], shape=(1, 5), dtype=float32)\n"
     ]
    }
   ],
   "source": [
    "z=print(model(x))\n",
    "with writer.as_default():\n",
    "    tf.summary.trace_export(name='Dense_trace',\n",
    "    step=0,\n",
    "    profiler_outdir=logdir)"
   ]
  },
  {
   "cell_type": "markdown",
   "metadata": {},
   "source": [
    "## tf.summary.histogram"
   ]
  },
  {
   "cell_type": "code",
   "execution_count": 7,
   "metadata": {},
   "outputs": [],
   "source": [
    "w = tf.summary.create_file_writer('test/logs')\n",
    "with w.as_default():\n",
    "    tf.summary.histogram(\"activations\", tf.random.uniform([100, 50]), step=0)\n",
    "    tf.summary.histogram(\"initial_weights\", tf.random.normal([1000]), step=0)"
   ]
  },
  {
   "cell_type": "code",
   "execution_count": 10,
   "metadata": {},
   "outputs": [],
   "source": [
    "w = tf.summary.create_file_writer('test/logs')\n",
    "with w.as_default():\n",
    "    for step in range(100):\n",
    "        # Generate fake \"activations\".\n",
    "        activations = [\n",
    "            tf.random.normal([1000], mean=step, stddev=1),\n",
    "            tf.random.normal([1000], mean=step, stddev=10),\n",
    "            tf.random.normal([1000], mean=step, stddev=100),\n",
    "        ]\n",
    "\n",
    "        tf.summary.histogram(\"layer1/activate\", activations[0], step=step)\n",
    "        tf.summary.histogram(\"layer2/activate\", activations[1], step=step)\n",
    "        tf.summary.histogram(\"layer3/activate\", activations[2], step=step)"
   ]
  },
  {
   "cell_type": "markdown",
   "metadata": {},
   "source": [
    "**To see the tensorboard logs of histogram use the folling commond**\n",
    "<br>\n",
    "tensorboard --logdir='test/logs/'"
   ]
  }
 ],
 "metadata": {
  "kernelspec": {
   "display_name": "Python 3.10.4 ('vision')",
   "language": "python",
   "name": "python3"
  },
  "language_info": {
   "codemirror_mode": {
    "name": "ipython",
    "version": 3
   },
   "file_extension": ".py",
   "mimetype": "text/x-python",
   "name": "python",
   "nbconvert_exporter": "python",
   "pygments_lexer": "ipython3",
   "version": "3.10.4"
  },
  "orig_nbformat": 4,
  "vscode": {
   "interpreter": {
    "hash": "c93af7433719cf61beb232a937287b5f6ac44c5a03632b389ba7312dbdbeed85"
   }
  }
 },
 "nbformat": 4,
 "nbformat_minor": 2
}
